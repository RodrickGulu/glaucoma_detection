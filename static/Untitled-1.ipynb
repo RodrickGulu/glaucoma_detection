{
 "cells": [
  {
   "cell_type": "code",
   "execution_count": 3,
   "metadata": {},
   "outputs": [],
   "source": [
    "def binary_gap_longest(number):\n",
    "    binary=format(number, 'b')\n",
    "    current_gap=0\n",
    "    longest_gap=0\n",
    "    for i in binary:\n",
    "        if i=='1':\n",
    "            if current_gap > 0:\n",
    "                if current_gap > longest_gap:\n",
    "                    longest_gap = current_gap\n",
    "            current_gap=0\n",
    "        else:\n",
    "            current_gap += 1\n",
    "        \n",
    "    return longest_gap\n",
    "\n",
    "def binary_gap_count(number):\n",
    "    binary=format(number, 'b')\n",
    "    current_gap=0\n",
    "    gap_count=0\n",
    "    for i in binary:\n",
    "        if i=='1':\n",
    "            if current_gap > 0:\n",
    "                gap_count += 1\n",
    "            current_gap=0\n",
    "        else:\n",
    "            current_gap += 1\n",
    "    \n",
    "    return gap_count"
   ]
  },
  {
   "cell_type": "code",
   "execution_count": 14,
   "metadata": {},
   "outputs": [
    {
     "name": "stdout",
     "output_type": "stream",
     "text": [
      "Binary for 2147483647 is 1111111111111111111111111111111\n",
      "Longest binary gap is: 0\n",
      "Number of binary gaps is: 0\n"
     ]
    }
   ],
   "source": [
    "number=2147483647\n",
    "print(f\"Binary for {number} is {format(number, 'b')}\")\n",
    "print(f\"Longest binary gap is: {binary_gap_longest(number)}\")\n",
    "print(f\"Number of binary gaps is: {binary_gap_count(number)}\")"
   ]
  },
  {
   "cell_type": "code",
   "execution_count": 41,
   "metadata": {},
   "outputs": [],
   "source": [
    "\n",
    "def smallest_integer(A):\n",
    "    A.sort()\n",
    "    list_count=len(set(A))\n",
    "    max_num=max(A)\n",
    "    min_num=min(A)\n",
    "    rangey=(max(A) - min(A)) + 1\n",
    "    \n",
    "    if max_num <0:\n",
    "        return 1\n",
    "    \n",
    "    if list_count == rangey:\n",
    "        return max_num + 1\n",
    "    \n",
    "    for i in range(min_num, max_num):\n",
    "        if i not in set(A):\n",
    "            return i if i>0 else 1 if 1 not in set(A) else max_num + 1"
   ]
  },
  {
   "cell_type": "code",
   "execution_count": 42,
   "metadata": {},
   "outputs": [
    {
     "data": {
      "text/plain": [
       "2"
      ]
     },
     "execution_count": 42,
     "metadata": {},
     "output_type": "execute_result"
    }
   ],
   "source": [
    "A=[-1,-2,1]\n",
    "smallest_integer(A)"
   ]
  },
  {
   "cell_type": "code",
   "execution_count": 3,
   "metadata": {},
   "outputs": [],
   "source": [
    "def max_slice(A):\n",
    "    if A:\n",
    "        min_price=A[0]\n",
    "        max_profit=0\n",
    "        \n",
    "        for price in A[1:]:\n",
    "            max_profit=max(max_profit, price-min_price)\n",
    "            min_price=min(min_price, price)\n",
    "            \n",
    "        return max_profit"
   ]
  },
  {
   "cell_type": "code",
   "execution_count": 5,
   "metadata": {},
   "outputs": [],
   "source": [
    "A = []\n",
    "max_slice(A)"
   ]
  },
  {
   "cell_type": "code",
   "execution_count": 23,
   "metadata": {},
   "outputs": [
    {
     "name": "stdout",
     "output_type": "stream",
     "text": [
      "Number of conforming numbers: 1073741824\n"
     ]
    }
   ],
   "source": [
    "def count_conforming_numbers(A, B, C):\n",
    "    # Calculate the bitwise OR of A, B, and C to find the maximum number of set bits\n",
    "    max_bits = max(A, B, C)\n",
    "    \n",
    "    # Count the number of unset bits in the maximum number\n",
    "    count_unset_bits = 30 - bin(max_bits).count('1')\n",
    "\n",
    "    # Calculate the total count of numbers with at least one set bit\n",
    "    conforming_count = 2 ** count_unset_bits + 2 ** count_unset_bits + 2 ** count_unset_bits - 3\n",
    "\n",
    "    # Subtract the count of numbers with only one set bit for each unique number\n",
    "    if A == B != C:\n",
    "        conforming_count -= 2 ** count_unset_bits\n",
    "    if A == C != B:\n",
    "        conforming_count -= 2 ** count_unset_bits\n",
    "    if B == C != A:\n",
    "        conforming_count -= 2 ** count_unset_bits\n",
    "    \n",
    "    # If all three numbers are equal, adjust the count accordingly\n",
    "    if A == B == C:\n",
    "        return 2 ** count_unset_bits\n",
    "    \n",
    "    return conforming_count\n",
    "\n",
    "# Example usage:\n",
    "A = 0\n",
    "B = 0\n",
    "C = 0\n",
    "print(\"Number of conforming numbers:\", count_conforming_numbers(A, B, C))"
   ]
  },
  {
   "cell_type": "code",
   "execution_count": 3,
   "metadata": {},
   "outputs": [
    {
     "name": "stdout",
     "output_type": "stream",
     "text": [
      "30-bit binary representation: 111111111111111111111110011111\n"
     ]
    }
   ],
   "source": [
    "# Function to convert an integer to a 30-bit binary representation\n",
    "def int_to_30bit_binary(number):\n",
    "    # Convert the number to binary string representation\n",
    "    binary_string = bin(number & int(\"1\"*30, 2))[2:]\n",
    "    # Pad the binary string with leading zeros to ensure it's 30 bits long\n",
    "    padded_binary_string = binary_string.zfill(30)\n",
    "    return padded_binary_string\n",
    "\n",
    "# Example usage\n",
    "number = 1073741727  # Replace with your integer\n",
    "binary_representation = int_to_30bit_binary(number)\n",
    "print(\"30-bit binary representation:\", binary_representation)\n"
   ]
  },
  {
   "cell_type": "code",
   "execution_count": null,
   "metadata": {},
   "outputs": [],
   "source": [
    "def longest_password(password):\n",
    "    passs=[]\n",
    "    passwords=password.split('')\n",
    "    alph=0\n",
    "    num=0\n",
    "    for pas in passwords:\n",
    "        for i in pas:\n",
    "            if i in (ord(a),ord(z))|(ord(A),ord(Z)):\n",
    "                alph+=1\n",
    "            elif i in (0,9):\n",
    "                num+=1\n",
    "                "
   ]
  }
 ],
 "metadata": {
  "kernelspec": {
   "display_name": "Python 3",
   "language": "python",
   "name": "python3"
  },
  "language_info": {
   "codemirror_mode": {
    "name": "ipython",
    "version": 3
   },
   "file_extension": ".py",
   "mimetype": "text/x-python",
   "name": "python",
   "nbconvert_exporter": "python",
   "pygments_lexer": "ipython3",
   "version": "3.11.5"
  }
 },
 "nbformat": 4,
 "nbformat_minor": 2
}
